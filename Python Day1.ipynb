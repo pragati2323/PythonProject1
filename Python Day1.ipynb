{
 "cells": [
  {
   "cell_type": "code",
   "execution_count": 1,
   "id": "decimal-impression",
   "metadata": {},
   "outputs": [
    {
     "name": "stdout",
     "output_type": "stream",
     "text": [
      "[1, 2, 3, 4]\n",
      "['apple', 'banana', 'cherry']\n"
     ]
    }
   ],
   "source": [
    "#creating a list\n",
    "numbers=[1,2,3,4]\n",
    "fruits=[\"apple\",\"banana\",\"cherry\"]\n",
    "print(numbers)\n",
    "print(fruits)"
   ]
  },
  {
   "cell_type": "code",
   "execution_count": 3,
   "id": "partial-community",
   "metadata": {},
   "outputs": [
    {
     "name": "stdout",
     "output_type": "stream",
     "text": [
      "['apple', 'banana', 'cherry', 'orange']\n"
     ]
    }
   ],
   "source": [
    "# Append\n",
    "fruits=[\"apple\",\"banana\",\"cherry\"]\n",
    "fruits.append(\"orange\")\n",
    "print(fruits)"
   ]
  },
  {
   "cell_type": "code",
   "execution_count": 4,
   "id": "japanese-diving",
   "metadata": {},
   "outputs": [
    {
     "name": "stdout",
     "output_type": "stream",
     "text": [
      "[]\n"
     ]
    }
   ],
   "source": [
    "# Clear\n",
    "fruits=[\"apple\",\"banana\",\"cherry\"]\n",
    "fruits.clear()\n",
    "print(fruits)\n"
   ]
  },
  {
   "cell_type": "code",
   "execution_count": 5,
   "id": "acute-monkey",
   "metadata": {},
   "outputs": [
    {
     "name": "stdout",
     "output_type": "stream",
     "text": [
      "['apple', 'banana', 'cherry']\n"
     ]
    }
   ],
   "source": [
    "#copy \n",
    "fruits=[\"apple\",\"banana\",\"cherry\"]\n",
    "mylist=fruits.copy()\n",
    "print(mylist)\n"
   ]
  },
  {
   "cell_type": "code",
   "execution_count": 6,
   "id": "photographic-tracker",
   "metadata": {},
   "outputs": [
    {
     "name": "stdout",
     "output_type": "stream",
     "text": [
      "['apple', 'banana', 'cherry', 'Ford', 'BMW', 'Volvo']\n"
     ]
    }
   ],
   "source": [
    "#Extend\n",
    "fruits=[\"apple\",\"banana\",\"cherry\"]\n",
    "cars = ['Ford', 'BMW', 'Volvo']\n",
    "fruits.extend(cars)\n",
    "print(fruits)"
   ]
  },
  {
   "cell_type": "code",
   "execution_count": 7,
   "id": "recent-canadian",
   "metadata": {},
   "outputs": [
    {
     "name": "stdout",
     "output_type": "stream",
     "text": [
      "1\n"
     ]
    }
   ],
   "source": [
    "#Index\n",
    "fruits=[\"apple\",\"banana\",\"cherry\"]\n",
    "x=fruits.index(\"banana\")\n",
    "print(x)"
   ]
  },
  {
   "cell_type": "code",
   "execution_count": 8,
   "id": "opponent-illinois",
   "metadata": {},
   "outputs": [
    {
     "name": "stdout",
     "output_type": "stream",
     "text": [
      "['apple', 'banana', 'orange', 'cherry']\n"
     ]
    }
   ],
   "source": [
    "#Insert\n",
    "fruits=[\"apple\",\"banana\",\"cherry\"]\n",
    "fruits.insert(2,\"orange\")\n",
    "print(fruits)"
   ]
  },
  {
   "cell_type": "code",
   "execution_count": 10,
   "id": "choice-stress",
   "metadata": {},
   "outputs": [
    {
     "name": "stdout",
     "output_type": "stream",
     "text": [
      "1\n",
      "2\n"
     ]
    }
   ],
   "source": [
    "#Count\n",
    "fruits=[\"apple\",\"banana\",\"cherry\"]\n",
    "fruits2=[\"apple\",\"cherry\",\"banana\",\"cherry\"]\n",
    "x = fruits.count(\"cherry\")\n",
    "y=fruits2.count(\"cherry\")\n",
    "print(x)\n",
    "print(y)"
   ]
  },
  {
   "cell_type": "code",
   "execution_count": 15,
   "id": "renewable-stocks",
   "metadata": {},
   "outputs": [
    {
     "name": "stdout",
     "output_type": "stream",
     "text": [
      "['apple', 'cherry']\n"
     ]
    }
   ],
   "source": [
    "#pop -method removes the item at the given index from the list and returns the removed item\n",
    "fruits=[\"apple\",\"banana\",\"cherry\"]\n",
    "fruits.pop(1)\n",
    "print(fruits)\n",
    "\n",
    "\n"
   ]
  },
  {
   "cell_type": "code",
   "execution_count": 16,
   "id": "dried-absolute",
   "metadata": {},
   "outputs": [
    {
     "name": "stdout",
     "output_type": "stream",
     "text": [
      "['apple', 'banana']\n"
     ]
    }
   ],
   "source": [
    "#remove\n",
    "fruits=[\"apple\",\"banana\",\"cherry\"]\n",
    "fruits.remove(\"cherry\")\n",
    "print(fruits)"
   ]
  },
  {
   "cell_type": "code",
   "execution_count": 17,
   "id": "combined-perry",
   "metadata": {},
   "outputs": [
    {
     "name": "stdout",
     "output_type": "stream",
     "text": [
      "['apple', 'banana', 'cherry']\n"
     ]
    }
   ],
   "source": [
    "#sort\n",
    "fruits=[\"cherry\",\"banana\",\"apple\"]\n",
    "fruits.sort()\n",
    "print(fruits)"
   ]
  },
  {
   "cell_type": "code",
   "execution_count": 18,
   "id": "resident-handy",
   "metadata": {},
   "outputs": [
    {
     "name": "stdout",
     "output_type": "stream",
     "text": [
      "['TestingXperts', 'Employee']\n"
     ]
    }
   ],
   "source": [
    "#split\n",
    "a=\"TestingXperts Employee\"\n",
    "a=a.split(\" \")\n",
    "print(a)"
   ]
  },
  {
   "cell_type": "code",
   "execution_count": 19,
   "id": "pending-wheat",
   "metadata": {},
   "outputs": [
    {
     "name": "stdout",
     "output_type": "stream",
     "text": [
      "['apple', 'orange', 'cherry']\n"
     ]
    }
   ],
   "source": [
    "#list Slicing\n",
    "fruits=[\"apple\",\"banana\",\"cherry\"]\n",
    "fruits[1]=\"orange\"\n",
    "print(fruits)"
   ]
  },
  {
   "cell_type": "code",
   "execution_count": 21,
   "id": "amazing-preparation",
   "metadata": {},
   "outputs": [
    {
     "name": "stdout",
     "output_type": "stream",
     "text": [
      "HelloWorld\n",
      "Hello World\n"
     ]
    }
   ],
   "source": [
    "#string concatenation\n",
    "a = \"Hello\"\n",
    "b = \"World\"\n",
    "c = a + b\n",
    "print(c)\n",
    "c=a+\" \"+b\n",
    "print(c)"
   ]
  },
  {
   "cell_type": "code",
   "execution_count": 22,
   "id": "individual-scenario",
   "metadata": {},
   "outputs": [
    {
     "name": "stdout",
     "output_type": "stream",
     "text": [
      "My name is Pragati, and I am 22\n"
     ]
    }
   ],
   "source": [
    "#format()- method to insert numbers into strings\n",
    "age = 22\n",
    "txt = \"My name is Pragati, and I am {}\"\n",
    "print(txt.format(age))"
   ]
  },
  {
   "cell_type": "code",
   "execution_count": 24,
   "id": "insured-secretary",
   "metadata": {},
   "outputs": [
    {
     "name": "stdout",
     "output_type": "stream",
     "text": [
      "['c', 'a', 'd', 'c', 'b', 'a']\n",
      "['a', 'b', 'c', 'd', 'a']\n",
      "['a', 'c']\n"
     ]
    }
   ],
   "source": [
    "#string slicing\n",
    "my_secondlist=[\"a\",\"b\",\"c\",\"d\",\"a\",\"c\"]\n",
    "print(my_secondlist[::-1])\n",
    "print(my_secondlist[-7:-1])\n",
    "print(my_secondlist[0:4:2])"
   ]
  },
  {
   "cell_type": "code",
   "execution_count": 25,
   "id": "sought-asthma",
   "metadata": {},
   "outputs": [
    {
     "name": "stdout",
     "output_type": "stream",
     "text": [
      "8\n",
      "15\n",
      "125\n",
      "2\n"
     ]
    }
   ],
   "source": [
    "#operators in python\n",
    "x = 5\n",
    "y = 3\n",
    "print(x + y)\n",
    "print(x*y)\n",
    "print(x ** y) #same as 2*2*2*2*2\n",
    "print(x % y)\n"
   ]
  },
  {
   "cell_type": "code",
   "execution_count": 26,
   "id": "immune-bracket",
   "metadata": {},
   "outputs": [
    {
     "name": "stdout",
     "output_type": "stream",
     "text": [
      "HELLO, GOOD EVENING!\n",
      "hello, good evening!\n",
      "Hello, good evening!\n"
     ]
    }
   ],
   "source": [
    "#Uppercase,lowercase,\n",
    "#Strip method removes any whitespace from the beginning or the end\n",
    "a = \"Hello, good evening!\"\n",
    "b = \"  Hello, good evening!\"\n",
    "print(a.upper())\n",
    "print(a.lower())\n",
    "print(b.strip())\n",
    "\n"
   ]
  },
  {
   "cell_type": "code",
   "execution_count": 27,
   "id": "educated-indianapolis",
   "metadata": {},
   "outputs": [
    {
     "name": "stdout",
     "output_type": "stream",
     "text": [
      "Pragati!\n"
     ]
    }
   ],
   "source": [
    "#replace() method replaces a string with another string\n",
    "a = \"Aragati!\"\n",
    "print(a.replace(\"A\", \"P\"))\n"
   ]
  },
  {
   "cell_type": "code",
   "execution_count": 28,
   "id": "looking-watson",
   "metadata": {},
   "outputs": [
    {
     "name": "stdout",
     "output_type": "stream",
     "text": [
      "True\n",
      "False\n",
      "True\n"
     ]
    }
   ],
   "source": [
    "#Boolean values\n",
    "print(600 > 50)\n",
    "print(25 == 89)\n",
    "print(2 < 9)\n"
   ]
  },
  {
   "cell_type": "code",
   "execution_count": 31,
   "id": "motivated-villa",
   "metadata": {},
   "outputs": [
    {
     "name": "stdout",
     "output_type": "stream",
     "text": [
      "1\n",
      "2\n",
      "2.8\n",
      "3\n"
     ]
    }
   ],
   "source": [
    "#typr casting\n",
    "x = int(1)\n",
    "y = int(2.8)\n",
    "q = float(2.8)\n",
    "z = int(\"3\")\n",
    "print(x)\n",
    "print(y)\n",
    "print(q)\n",
    "print(z)\n"
   ]
  },
  {
   "cell_type": "code",
   "execution_count": 32,
   "id": "continuing-modern",
   "metadata": {},
   "outputs": [
    {
     "name": "stdout",
     "output_type": "stream",
     "text": [
      "[1, 2, 3, 4, 5, 6]\n",
      "[6, 5, 4, 3, 2, 1]\n"
     ]
    }
   ],
   "source": [
    "# reverse -> reverses the list from last to first\n",
    "\n",
    "my_list = [1,2,3,4,5,6]\n",
    "print(my_list)\n",
    "my_list.reverse()\n",
    "print(my_list)"
   ]
  },
  {
   "cell_type": "code",
   "execution_count": 33,
   "id": "unique-motorcycle",
   "metadata": {},
   "outputs": [
    {
     "name": "stdout",
     "output_type": "stream",
     "text": [
      "['a', 'new value', 'c', 'd', 'a', 'c']\n"
     ]
    }
   ],
   "source": [
    "# changing the value at some specific index\n",
    "\n",
    "my_list = [\"a\",\"b\",\"c\",\"d\",\"a\",\"c\"]\n",
    "my_list[1] = \"new value\"\n",
    "print(my_list)"
   ]
  },
  {
   "cell_type": "code",
   "execution_count": 101,
   "id": "apparent-finish",
   "metadata": {},
   "outputs": [
    {
     "name": "stdout",
     "output_type": "stream",
     "text": [
      "apple\n",
      "cherry\n",
      "banana\n"
     ]
    }
   ],
   "source": [
    "x = (\"apple\", \"banana\", \"cherry\")\n",
    "(six,four,five)=x\n",
    "print(six)\n",
    "print(five)\n",
    "print(four)\n",
    "\n"
   ]
  },
  {
   "cell_type": "code",
   "execution_count": 4,
   "id": "controlling-advice",
   "metadata": {},
   "outputs": [
    {
     "name": "stdout",
     "output_type": "stream",
     "text": [
      "<class 'int'>\n",
      "<class 'tuple'>\n"
     ]
    }
   ],
   "source": [
    "#DAY 2 Python---\n",
    "\n",
    "#Tuples\n",
    "\n",
    "#-- data type\n",
    "\n",
    "my_list=(10)\n",
    "sec_list=(10,)\n",
    "\n",
    "print(type(my_list))\n",
    "print(type(sec_list))"
   ]
  },
  {
   "cell_type": "code",
   "execution_count": 10,
   "id": "confident-lucas",
   "metadata": {},
   "outputs": [
    {
     "name": "stdout",
     "output_type": "stream",
     "text": [
      "(20, 30)\n"
     ]
    }
   ],
   "source": [
    "# range\n",
    "sec_list=(10, 20 ,30, 40)\n",
    "print(sec_list[1:3])"
   ]
  },
  {
   "cell_type": "code",
   "execution_count": 153,
   "id": "decimal-qatar",
   "metadata": {},
   "outputs": [
    {
     "name": "stdout",
     "output_type": "stream",
     "text": [
      "(1, 2, 3, 4, 5, 6, 7)\n"
     ]
    }
   ],
   "source": [
    "#Tuples are unchangeable, or immutable\n",
    "#we can convert the tuple into a list to be able to change it\n",
    "\n",
    "my_tuple=(1,2,3,4,4,6,7)\n",
    "x=list(my_tuple)\n",
    "x[4]=5\n",
    "my_tuple=tuple(x)\n",
    "print(my_tuple)"
   ]
  },
  {
   "cell_type": "code",
   "execution_count": 19,
   "id": "legendary-lawsuit",
   "metadata": {},
   "outputs": [
    {
     "name": "stdout",
     "output_type": "stream",
     "text": [
      "(1, 2, 3, 4, 5, 6)\n"
     ]
    }
   ],
   "source": [
    "# add items -append()\n",
    "\n",
    "x=(1,2,3,4,5)\n",
    "y=list(x)\n",
    "y.append(6)\n",
    "x=tuple(y)\n",
    "print(x)"
   ]
  },
  {
   "cell_type": "code",
   "execution_count": 53,
   "id": "tight-junction",
   "metadata": {},
   "outputs": [
    {
     "name": "stdout",
     "output_type": "stream",
     "text": [
      "(1, 2, 3, 5)\n",
      "('Pragati', 'Gurjeet', 'Anshuman')\n"
     ]
    }
   ],
   "source": [
    "# remove items \n",
    "x=(1,2,3,4,5)\n",
    "y=list(x)\n",
    "y.remove(4)\n",
    "x=tuple(y)\n",
    "print(x)\n",
    "\n",
    "new_tuple=(\"Pragati\", \"Gurjeet\", \"Prateek\", \"Anshuman\")\n",
    "z=list(new_tuple)\n",
    "z.remove(\"Prateek\")\n",
    "new_tuple=tuple(z)\n",
    "print(new_tuple)\n"
   ]
  },
  {
   "cell_type": "code",
   "execution_count": 25,
   "id": "positive-bench",
   "metadata": {},
   "outputs": [
    {
     "name": "stdout",
     "output_type": "stream",
     "text": [
      "1\n",
      "2\n",
      "3\n",
      "4\n",
      "5\n"
     ]
    }
   ],
   "source": [
    "#unpack tuples\n",
    "\n",
    "x=(1,2,3,4,5)\n",
    "(red,orange,blue,black,white)=x\n",
    "print(red)\n",
    "print(orange)\n",
    "print(blue)\n",
    "print(black)\n",
    "print(white)"
   ]
  },
  {
   "cell_type": "code",
   "execution_count": 150,
   "id": "revolutionary-sustainability",
   "metadata": {},
   "outputs": [
    {
     "name": "stdout",
     "output_type": "stream",
     "text": [
      "1\n",
      "2\n",
      "[3, 4, 5]\n"
     ]
    }
   ],
   "source": [
    "#Asterisk\n",
    "\"\"\"If the number of variables is less than the number of values, \n",
    "we can add an * to the variable name and the values will be \n",
    "assigned to the variable as a list\"\"\"\n",
    "\n",
    "x=(1,2,3,4,5)\n",
    "(red,orange,*blue)=x\n",
    "print(red)\n",
    "print(orange)\n",
    "print(blue)"
   ]
  },
  {
   "cell_type": "code",
   "execution_count": 27,
   "id": "defensive-truck",
   "metadata": {},
   "outputs": [
    {
     "name": "stdout",
     "output_type": "stream",
     "text": [
      "1\n",
      "2\n",
      "3\n",
      "4\n",
      "5\n"
     ]
    }
   ],
   "source": [
    "#loop\n",
    "x=(1,2,3,4,5)\n",
    "for z in x:\n",
    "    print(z)"
   ]
  },
  {
   "cell_type": "code",
   "execution_count": 29,
   "id": "motivated-scout",
   "metadata": {},
   "outputs": [
    {
     "name": "stdout",
     "output_type": "stream",
     "text": [
      "1\n",
      "2\n",
      "3\n",
      "4\n",
      "5\n"
     ]
    }
   ],
   "source": [
    "#iterate through len() & range()\n",
    "\n",
    "x=(1,2,3,4,5)\n",
    "for i in range(len(x)):\n",
    "    print(x[i])"
   ]
  },
  {
   "cell_type": "code",
   "execution_count": 30,
   "id": "painted-spirit",
   "metadata": {},
   "outputs": [
    {
     "name": "stdout",
     "output_type": "stream",
     "text": [
      "1\n",
      "2\n",
      "3\n",
      "4\n",
      "5\n"
     ]
    }
   ],
   "source": [
    "#while loop\n",
    "\n",
    "x=(1,2,3,4,5)\n",
    "i=0\n",
    "while i<len(x) :\n",
    "    print(x[i])\n",
    "    i=i+1"
   ]
  },
  {
   "cell_type": "code",
   "execution_count": 37,
   "id": "surprised-kennedy",
   "metadata": {},
   "outputs": [
    {
     "name": "stdout",
     "output_type": "stream",
     "text": [
      "('a', 'b', 'c', 1, 2, 3)\n"
     ]
    }
   ],
   "source": [
    "# we can join tuples bu using + operator\n",
    "first_T=(\"a\",\"b\",\"c\")\n",
    "second_T=(1,2,3)\n",
    "res=first_T + second_T\n",
    "print(res)"
   ]
  },
  {
   "cell_type": "code",
   "execution_count": 39,
   "id": "genuine-limitation",
   "metadata": {},
   "outputs": [
    {
     "name": "stdout",
     "output_type": "stream",
     "text": [
      "(1, 2, 3, 1, 2, 3)\n"
     ]
    }
   ],
   "source": [
    "#Multiply\n",
    "x=(1,2,3)\n",
    "y=x*2\n",
    "print(y)\n"
   ]
  },
  {
   "cell_type": "code",
   "execution_count": 54,
   "id": "committed-legislature",
   "metadata": {},
   "outputs": [
    {
     "name": "stdout",
     "output_type": "stream",
     "text": [
      "4\n",
      "the given value present at the location or index number of 5\n"
     ]
    }
   ],
   "source": [
    "# intuples we have two methods cound & index\n",
    "a=(1, 3, 7, 8, 7, 3, 5, 4, 6, 8, 5,3,3)\n",
    "x=a.count(3)\n",
    "print(x)\n",
    "\n",
    "b=(1,2,3,4,5,6,7,8)\n",
    "y=b.index(6)\n",
    "txt=\"the given value present at the location or index number of {}\"\n",
    "print(txt.format(y))\n",
    "\n"
   ]
  },
  {
   "cell_type": "code",
   "execution_count": 55,
   "id": "atmospheric-warner",
   "metadata": {},
   "outputs": [],
   "source": [
    "#Dictionaries\n",
    "#Dictionary represents a group of elements in the form of key value pairs\n",
    "#keys can't be repeated,and are case sensititve\n",
    "#key should be unique,if we mention same key again,the old key will be overwritten\n",
    "#A dictionary is a collection which is ordered*, changeable,mutable and does not allow duplicates\n",
    "#As of Python version 3.7, dictionaries are ordered. In Python 3.6 and earlier, dictionaries are unordered."
   ]
  },
  {
   "cell_type": "code",
   "execution_count": 155,
   "id": "reverse-circumstances",
   "metadata": {},
   "outputs": [
    {
     "name": "stdout",
     "output_type": "stream",
     "text": [
      "<class 'dict'>\n",
      "{'name': 'pragati', 'id': 3121, 'dept': 'it'}\n",
      "gurjeet\n",
      "3119\n",
      "length of first dictionary is 3\n"
     ]
    }
   ],
   "source": [
    "#Creating a dictionary & accessing items\n",
    "\n",
    "my_dict={}\n",
    "print(type(my_dict))\n",
    "\n",
    "first_emp={\"name\":\"pragati\" , \"id\": 3121 , \"dept\": \"it\"}\n",
    "second_emp={\"name\":\"gurjeet\" , \"id\": 3119 , \"dept\": \"cs\"}\n",
    "\n",
    "print(first_emp)\n",
    "x=second_emp[\"name\"]\n",
    "print(x)\n",
    "print(second_emp['id'])\n",
    "\n",
    "z=len(first_emp)\n",
    "txt='length of first dictionary is {}'\n",
    "print(txt.format(z))\n",
    "\n"
   ]
  },
  {
   "cell_type": "code",
   "execution_count": 87,
   "id": "green-place",
   "metadata": {},
   "outputs": [
    {
     "name": "stdout",
     "output_type": "stream",
     "text": [
      "{'name': 'pragati', 'id': 2020, 'dept': 'it'}\n"
     ]
    }
   ],
   "source": [
    "#change the values\n",
    "\n",
    "first_emp={\"name\":\"pragati\" , \"id\": 3121 , \"dept\": \"it\"}\n",
    "\n",
    "first_emp[\"id\"] = 2020\n",
    "\n",
    "print(first_emp)"
   ]
  },
  {
   "cell_type": "code",
   "execution_count": 94,
   "id": "digital-island",
   "metadata": {},
   "outputs": [
    {
     "name": "stdout",
     "output_type": "stream",
     "text": [
      "{'name': 'pragati', 'id': 2020, 'dept': 'it'}\n",
      "{'name': 'gurjeet', 'id': 3119, 'dept': 'it'}\n",
      "{'name': 'prateek', 'id': 2020, 'dept': 'it', 'color': 'red'}\n"
     ]
    }
   ],
   "source": [
    "#Update \n",
    "\n",
    "first_emp={\"name\":\"pragati\" , \n",
    "           \"id\": 3121 , \n",
    "           \"dept\": \"it\"\n",
    "          }\n",
    "second_emp={\"name\":\"gurjeet\" ,\n",
    "            \"id\": 3119 , \n",
    "            \"dept\": \"cs\"\n",
    "           }\n",
    "first_emp.update({\"id\": 2020})\n",
    "print(first_emp)\n",
    "second_emp.update({\"dept\":\"it\"})\n",
    "print(second_emp)\n",
    "\n",
    "#update --If the item does not exist, the item will be added.\n",
    "first_emp['name']=\"prateek\"\n",
    "first_emp.update({\"color\": \"red\"})\n",
    "print(first_emp)\n"
   ]
  },
  {
   "cell_type": "code",
   "execution_count": 100,
   "id": "patent-coupon",
   "metadata": {},
   "outputs": [
    {
     "name": "stdout",
     "output_type": "stream",
     "text": [
      "{'id': 3121, 'dept': 'it'}\n",
      "{'name': 'gurjeet', 'id': 3119}\n",
      "{}\n"
     ]
    }
   ],
   "source": [
    "#Remove an item\n",
    "#The pop() method removes the item with the specified key name\n",
    "\n",
    "first_emp={\"name\":\"pragati\" , \n",
    "           \"id\": 3121 , \n",
    "           \"dept\": \"it\"\n",
    "          }\n",
    "first_emp.pop(\"name\")\n",
    "print(first_emp)\n",
    "\n",
    "#popitem() method removes the last inserted item\n",
    "\n",
    "second_emp={\"name\":\"gurjeet\" ,\n",
    "            \"id\": 3119 , \n",
    "            \"dept\": \"cs\"\n",
    "           }\n",
    "second_emp.popitem()\n",
    "print(second_emp)\n",
    "#clear -method empties the dictionary\n",
    "first_emp.clear()\n",
    "print(first_emp)\n"
   ]
  },
  {
   "cell_type": "code",
   "execution_count": 108,
   "id": "saving-equation",
   "metadata": {},
   "outputs": [
    {
     "name": "stdout",
     "output_type": "stream",
     "text": [
      "('abc', 1, 2, 3, 'xyz')\n",
      "0 is the index of my value abc\n",
      "1 is the index of my value 1\n",
      "2 is the index of my value 2\n",
      "3 is the index of my value 3\n",
      "4 is the index of my value xyz\n"
     ]
    },
    {
     "data": {
      "text/plain": [
       "1"
      ]
     },
     "execution_count": 108,
     "metadata": {},
     "output_type": "execute_result"
    }
   ],
   "source": [
    "#TUPLE -Enumerate \n",
    "\n",
    "mytuple=(\"abc\",1,2,3,\"xyz\")\n",
    "print(mytuple)\n",
    "for i,v in enumerate(mytuple):\n",
    "    print(i, \"is the index of my value\",v)\n",
    "    \n",
    "    \n",
    "mylist=list(mytuple)\n",
    "mylist.count(2)\n"
   ]
  },
  {
   "cell_type": "code",
   "execution_count": 119,
   "id": "general-arrival",
   "metadata": {},
   "outputs": [
    {
     "name": "stdout",
     "output_type": "stream",
     "text": [
      "name\n",
      "id\n",
      "dept\n"
     ]
    }
   ],
   "source": [
    "# keys() method to return the keys of a dictionary\n",
    "first_emp={\"name\":\"pragati\" , \n",
    "           \"id\": 3121 , \n",
    "           \"dept\": \"it\"\n",
    "          }\n",
    "for x in first_emp.keys():\n",
    "    print(x)\n",
    "   \n",
    "    \n"
   ]
  },
  {
   "cell_type": "code",
   "execution_count": 135,
   "id": "fleet-earthquake",
   "metadata": {},
   "outputs": [
    {
     "name": "stdout",
     "output_type": "stream",
     "text": [
      "name pragati\n",
      "id 3121\n",
      "dept it\n"
     ]
    }
   ],
   "source": [
    "#both keys and values-using items()\n",
    "first_emp={\"name\":\"pragati\" , \n",
    "           \"id\": 3121 , \n",
    "           \"dept\": \"it\"\n",
    "          }\n",
    "#print(list(first_emp.items()))\n",
    "for x,y in first_emp.items():\n",
    "    print(x,y)\n",
    "    \n",
    "   \n"
   ]
  },
  {
   "cell_type": "code",
   "execution_count": 117,
   "id": "least-science",
   "metadata": {},
   "outputs": [
    {
     "name": "stdout",
     "output_type": "stream",
     "text": [
      "{'name': 'pragati', 'id': 3121, 'dept': 'it'}\n",
      "{'name': 'gurjeet', 'id': 3119, 'dept': 'cs'}\n"
     ]
    }
   ],
   "source": [
    "#copy dictionary\n",
    "#copy of a dictionary with the copy() method\n",
    "first_emp={\"name\":\"pragati\" , \n",
    "           \"id\": 3121 , \n",
    "           \"dept\": \"it\"\n",
    "          }\n",
    "mydict=first_emp.copy()\n",
    "print(mydict)\n",
    "\n",
    "#Make a copy of a dictionary with the dict() function\n",
    "second_emp={\"name\":\"gurjeet\" ,\n",
    "            \"id\": 3119 , \n",
    "            \"dept\": \"cs\"\n",
    "           }\n",
    "x=dict(second_emp)\n",
    "print(x)"
   ]
  },
  {
   "cell_type": "code",
   "execution_count": 130,
   "id": "equivalent-occasions",
   "metadata": {},
   "outputs": [
    {
     "name": "stdout",
     "output_type": "stream",
     "text": [
      "['pragati', 3121, 'it']\n",
      "['name', 'id', 'dept']\n",
      "[('name', 'pragati'), ('id', 3121), ('dept', 'it')]\n"
     ]
    }
   ],
   "source": [
    "#keys,values,items\n",
    "\n",
    "first_emp={\"name\":\"pragati\" , \n",
    "           \"id\": 3121 , \n",
    "           \"dept\": \"it\"\n",
    "          }\n",
    "#values\n",
    "print(list(first_emp.values()))\n",
    "#keys\n",
    "print(list(first_emp.keys()))\n",
    "#items\n",
    "print(list(first_emp.items()))\n",
    "\n"
   ]
  },
  {
   "cell_type": "code",
   "execution_count": 165,
   "id": "honey-counter",
   "metadata": {},
   "outputs": [
    {
     "name": "stdout",
     "output_type": "stream",
     "text": [
      "{'name': 'pragati', 'id': 3121, 'dept': 'it'}\n",
      "{'name': 'pragati', 'id': 3121, 'dept': 'it', 'color': 'blue'}\n",
      "pragati\n"
     ]
    }
   ],
   "source": [
    "#get() & setdefault()\n",
    "first_emp={\"name\":\"pragati\" , \n",
    "           \"id\": 3121 , \n",
    "           \"dept\": \"it\"\n",
    "          }\n",
    "\n",
    "print(first_emp)\n",
    "\n",
    "first_emp.setdefault(\"color\",\"blue\")\n",
    "print(first_emp)\n",
    "x=first_emp.get(\"name\")\n",
    "print(x)\n"
   ]
  },
  {
   "cell_type": "code",
   "execution_count": 168,
   "id": "faced-lighting",
   "metadata": {},
   "outputs": [
    {
     "name": "stdout",
     "output_type": "stream",
     "text": [
      "{'name': 'Gurjeet', 'id': 3121, 'dept': 'it'}\n",
      "{'name': 'Gurjeet', 'id': '2020', 'dept': 'it'}\n",
      "{'name': 'Gurjeet', 'id': '2020', 'dept': 'it', 'version': 34}\n"
     ]
    }
   ],
   "source": [
    "first_emp={\"name\":\"pragati\" , \n",
    "           \"id\": 3121 , \n",
    "           \"dept\": \"it\"\n",
    "          }\n",
    "\n",
    "first_emp['name']=\"Gurjeet\"\n",
    "print(first_emp)\n",
    "first_emp.update({\"id\":\"2020\"})\n",
    "print(first_emp)\n",
    "\n",
    "second_dict={\"version\": 34,\n",
    "            }\n",
    "first_emp={**first_emp, **second_dict}\n",
    "print(first_emp)\n",
    "\n",
    "\n"
   ]
  },
  {
   "cell_type": "code",
   "execution_count": null,
   "id": "cheap-dubai",
   "metadata": {},
   "outputs": [],
   "source": []
  }
 ],
 "metadata": {
  "kernelspec": {
   "display_name": "Python 3",
   "language": "python",
   "name": "python3"
  },
  "language_info": {
   "codemirror_mode": {
    "name": "ipython",
    "version": 3
   },
   "file_extension": ".py",
   "mimetype": "text/x-python",
   "name": "python",
   "nbconvert_exporter": "python",
   "pygments_lexer": "ipython3",
   "version": "3.9.2"
  }
 },
 "nbformat": 4,
 "nbformat_minor": 5
}
