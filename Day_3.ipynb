{
 "cells": [
  {
   "cell_type": "code",
   "execution_count": 1,
   "id": "flying-discretion",
   "metadata": {},
   "outputs": [],
   "source": [
    "#Day 3 Python Training\n",
    "#Sets\n",
    "\n"
   ]
  },
  {
   "cell_type": "code",
   "execution_count": 7,
   "id": "raising-helen",
   "metadata": {},
   "outputs": [
    {
     "name": "stdout",
     "output_type": "stream",
     "text": [
      "{1, 2, 34.8, 'abc'}\n",
      "(1, 4, 5, 'xyz')\n"
     ]
    }
   ],
   "source": [
    "#creating a set\n",
    "my_set={1,2,34.8,'abc'}\n",
    "new_set=((1,4,5,'xyz'))\n",
    "print(my_set)\n",
    "print(new_set)\n"
   ]
  },
  {
   "cell_type": "code",
   "execution_count": 8,
   "id": "systematic-theology",
   "metadata": {},
   "outputs": [
    {
     "data": {
      "text/plain": [
       "{1, 2, 34.8, 90, 'abc'}"
      ]
     },
     "execution_count": 8,
     "metadata": {},
     "output_type": "execute_result"
    }
   ],
   "source": [
    "# once a set is created we can not change its value,but can add values \n",
    "#add()\n",
    "my_set={1,2,34.8,'abc'}\n",
    "my_set.add(90)\n",
    "my_set\n"
   ]
  },
  {
   "cell_type": "code",
   "execution_count": 10,
   "id": "subject-commissioner",
   "metadata": {},
   "outputs": [
    {
     "data": {
      "text/plain": [
       "{1, 10, 12, 2, 34.8, 4, 6, 8, 'abc', 'testingxperts'}"
      ]
     },
     "execution_count": 10,
     "metadata": {},
     "output_type": "execute_result"
    }
   ],
   "source": [
    "#add more than one value in a set \n",
    "#update()\n",
    "my_set={1,2,34.8,'abc'}\n",
    "even={2,4,6,8,10,12,'testingxperts'}\n",
    "my_set.update(even)\n",
    "my_set"
   ]
  },
  {
   "cell_type": "code",
   "execution_count": 11,
   "id": "distinguished-neighbor",
   "metadata": {},
   "outputs": [
    {
     "data": {
      "text/plain": [
       "{'android', 'java', 'python'}"
      ]
     },
     "execution_count": 11,
     "metadata": {},
     "output_type": "execute_result"
    }
   ],
   "source": [
    "#Remove an element from set\n",
    "#if the item is not present in the set then this method-remove() will raise an error\n",
    "a={'android','java','javascript','python'}\n",
    "a.remove('javascript')\n",
    "a\n"
   ]
  },
  {
   "cell_type": "code",
   "execution_count": 13,
   "id": "aware-bruce",
   "metadata": {},
   "outputs": [
    {
     "name": "stdout",
     "output_type": "stream",
     "text": [
      "{'python', 'java', 'android'}\n",
      "{1, 2, 34.8, 'abc'}\n"
     ]
    }
   ],
   "source": [
    "#discard()\n",
    "\"\"\"used when we want to remove an item,but we are not sure if its actually\n",
    "present in the set or not,this method will not raise an error if the item/element is not present\"\"\"\n",
    "a={'android','java','javascript','python'}\n",
    "a.discard('javascript')\n",
    "print(a)\n",
    "\n",
    "my_set={1,2,34.8,'abc'}\n",
    "my_set.discard('xyz')\n",
    "print(my_set)"
   ]
  },
  {
   "cell_type": "code",
   "execution_count": 14,
   "id": "informed-dominant",
   "metadata": {},
   "outputs": [
    {
     "data": {
      "text/plain": [
       "{2, 34.8, 'abc'}"
      ]
     },
     "execution_count": 14,
     "metadata": {},
     "output_type": "execute_result"
    }
   ],
   "source": [
    "#pop() this method removes the random item from set\n",
    "\n",
    "my_set={1,2,34.8,'abc'}\n",
    "my_set.pop()\n",
    "my_set\n"
   ]
  },
  {
   "cell_type": "code",
   "execution_count": 15,
   "id": "looking-armor",
   "metadata": {},
   "outputs": [
    {
     "data": {
      "text/plain": [
       "{2020, 2021, 2022, 'android', 'java', 'javascript', 'python'}"
      ]
     },
     "execution_count": 15,
     "metadata": {},
     "output_type": "execute_result"
    }
   ],
   "source": [
    "#Joining sets\n",
    "#union() method that returns a new set containing all items from both sets\n",
    "a={'android','java','javascript','python'}\n",
    "b={2020,2021,2022}\n",
    "z=a.union(b)\n",
    "z\n"
   ]
  },
  {
   "cell_type": "code",
   "execution_count": 16,
   "id": "black-semiconductor",
   "metadata": {},
   "outputs": [
    {
     "data": {
      "text/plain": [
       "{1, 10, 12, 2, 34.8, 4, 6, 8, 'abc', 'testingxperts'}"
      ]
     },
     "execution_count": 16,
     "metadata": {},
     "output_type": "execute_result"
    }
   ],
   "source": [
    " #update()\n",
    "my_set={1,2,34.8,'abc'}\n",
    "even={2,4,6,8,10,12,'testingxperts'}\n",
    "my_set.update(even)\n",
    "my_set"
   ]
  },
  {
   "cell_type": "code",
   "execution_count": 34,
   "id": "capital-armstrong",
   "metadata": {},
   "outputs": [
    {
     "name": "stdout",
     "output_type": "stream",
     "text": [
      "set()\n",
      "{8, 2}\n",
      "{8, 2}\n"
     ]
    }
   ],
   "source": [
    "#The intersection_update() method will keep only the items that are present in both sets\n",
    "a={'android','java','javascript','python'}\n",
    "b={2020,2021,2022}\n",
    "a.intersection_update(b)\n",
    "print(a)\n",
    "\n",
    "my_set={1,2,8,34.8,'abc'}\n",
    "even={2,4,6,8,10,12,'testingxperts'}\n",
    "my_set.intersection_update(even)\n",
    "print(my_set)\n",
    "\n",
    "#intersection() method will return a new set, that only contains the items that are present in both sets.\n",
    "my_set={1,2,8,34.8,'abc'}\n",
    "even={2,4,6,8,10,12,'testingxperts'}\n",
    "z=my_set.intersection(even)\n",
    "print(z)"
   ]
  },
  {
   "cell_type": "code",
   "execution_count": 24,
   "id": "complimentary-agriculture",
   "metadata": {},
   "outputs": [
    {
     "name": "stdout",
     "output_type": "stream",
     "text": [
      "{1, 2, 3, 4, 7, 8, 9}\n"
     ]
    }
   ],
   "source": [
    "# symmetric_difference_update() method will keep only the elements that are NOT present in both sets\n",
    "a={1,2,3,6,4}\n",
    "b={6,7,8,9}\n",
    "a.symmetric_difference_update(b)\n",
    "print(a)"
   ]
  },
  {
   "cell_type": "code",
   "execution_count": 26,
   "id": "legitimate-iceland",
   "metadata": {},
   "outputs": [
    {
     "name": "stdout",
     "output_type": "stream",
     "text": [
      "{1, 2, 3, 4, 7, 8, 9}\n"
     ]
    }
   ],
   "source": [
    "#The symmetric_difference() method will return a new set,\n",
    "#that contains only the elements that are NOT present in both sets.\n",
    "a={1,2,3,6,4}\n",
    "b={6,7,8,9}\n",
    "z=a.symmetric_difference(b)\n",
    "print(z)"
   ]
  },
  {
   "cell_type": "code",
   "execution_count": 29,
   "id": "marine-detail",
   "metadata": {},
   "outputs": [
    {
     "name": "stdout",
     "output_type": "stream",
     "text": [
      "True\n",
      "False\n"
     ]
    }
   ],
   "source": [
    "#isdisjoint() method returns True if none of the items are present in both sets\n",
    "\n",
    "x={10,20,30,40,50}\n",
    "y={100,200,400,300,600}\n",
    "z=x.isdisjoint(y)\n",
    "print(z)\n",
    "\n",
    "x={10,20,30,40,50}\n",
    "w={1,2,3,40}\n",
    "z=x.isdisjoint(w)\n",
    "print(z)\n"
   ]
  },
  {
   "cell_type": "code",
   "execution_count": 30,
   "id": "charming-rebound",
   "metadata": {},
   "outputs": [
    {
     "name": "stdout",
     "output_type": "stream",
     "text": [
      "False\n"
     ]
    }
   ],
   "source": [
    "#Return True if all items in set z are present in set2 --issubset()\n",
    "z={'indore','bhopal','punjab','gujarat'}\n",
    "set2={'bhopal','maharashtra','pune'}\n",
    "a=z.issubset(set2)\n",
    "print(a)\n"
   ]
  },
  {
   "cell_type": "code",
   "execution_count": 32,
   "id": "pending-journalist",
   "metadata": {},
   "outputs": [
    {
     "name": "stdout",
     "output_type": "stream",
     "text": [
      "False\n",
      "True\n"
     ]
    }
   ],
   "source": [
    "#returns True if all items in the specified set exists in the original set, \n",
    "#otherwise it retuns False= issuperset()\n",
    "#original set \n",
    "x = {\"f\", \"e\", \"d\", \"c\", \"b\"}\n",
    "#specified set\n",
    "y = {\"a\", \"b\", \"c\"}\n",
    "z = x.issuperset(y) \n",
    "print(z)\n",
    "\n",
    "x = {\"f\", \"e\", \"d\", \"c\", \"b\",\"a\"}\n",
    "y = {\"a\", \"b\", \"c\"}\n",
    "z = x.issuperset(y) \n",
    "\n",
    "print(z)"
   ]
  },
  {
   "cell_type": "code",
   "execution_count": null,
   "id": "legislative-sellers",
   "metadata": {},
   "outputs": [],
   "source": [
    "# from random import randint\n",
    "# print(my_list)\n",
    "# for i, v in enumerate(my_list):\n",
    "#     if isinstance(v, str)|isinstance(v, dict):\n",
    "#         rand_int = randint(1, 9999)\n",
    "#         my_list[i] = rand_int\n",
    "# my_list\n",
    "\n",
    "x = randint(1, 9999)\n",
    "x"
   ]
  }
 ],
 "metadata": {
  "kernelspec": {
   "display_name": "Python 3",
   "language": "python",
   "name": "python3"
  },
  "language_info": {
   "codemirror_mode": {
    "name": "ipython",
    "version": 3
   },
   "file_extension": ".py",
   "mimetype": "text/x-python",
   "name": "python",
   "nbconvert_exporter": "python",
   "pygments_lexer": "ipython3",
   "version": "3.9.2"
  }
 },
 "nbformat": 4,
 "nbformat_minor": 5
}
