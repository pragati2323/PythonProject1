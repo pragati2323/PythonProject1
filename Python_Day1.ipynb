{
 "cells": [
  {
   "cell_type": "code",
   "execution_count": 1,
   "id": "decimal-impression",
   "metadata": {},
   "outputs": [
    {
     "name": "stdout",
     "output_type": "stream",
     "text": [
      "[1, 2, 3, 4]\n",
      "['apple', 'banana', 'cherry']\n"
     ]
    }
   ],
   "source": [
    "#creating a list\n",
    "numbers=[1,2,3,4]\n",
    "fruits=[\"apple\",\"banana\",\"cherry\"]\n",
    "print(numbers)\n",
    "print(fruits)"
   ]
  },
  {
   "cell_type": "code",
   "execution_count": 3,
   "id": "partial-community",
   "metadata": {},
   "outputs": [
    {
     "name": "stdout",
     "output_type": "stream",
     "text": [
      "['apple', 'banana', 'cherry', 'orange']\n"
     ]
    }
   ],
   "source": [
    "# Append\n",
    "fruits=[\"apple\",\"banana\",\"cherry\"]\n",
    "fruits.append(\"orange\")\n",
    "print(fruits)"
   ]
  },
  {
   "cell_type": "code",
   "execution_count": 4,
   "id": "japanese-diving",
   "metadata": {},
   "outputs": [
    {
     "name": "stdout",
     "output_type": "stream",
     "text": [
      "[]\n"
     ]
    }
   ],
   "source": [
    "# Clear\n",
    "fruits=[\"apple\",\"banana\",\"cherry\"]\n",
    "fruits.clear()\n",
    "print(fruits)\n"
   ]
  },
  {
   "cell_type": "code",
   "execution_count": 5,
   "id": "acute-monkey",
   "metadata": {},
   "outputs": [
    {
     "name": "stdout",
     "output_type": "stream",
     "text": [
      "['apple', 'banana', 'cherry']\n"
     ]
    }
   ],
   "source": [
    "#copy \n",
    "fruits=[\"apple\",\"banana\",\"cherry\"]\n",
    "mylist=fruits.copy()\n",
    "print(mylist)\n"
   ]
  },
  {
   "cell_type": "code",
   "execution_count": 6,
   "id": "photographic-tracker",
   "metadata": {},
   "outputs": [
    {
     "name": "stdout",
     "output_type": "stream",
     "text": [
      "['apple', 'banana', 'cherry', 'Ford', 'BMW', 'Volvo']\n"
     ]
    }
   ],
   "source": [
    "#Extend\n",
    "fruits=[\"apple\",\"banana\",\"cherry\"]\n",
    "cars = ['Ford', 'BMW', 'Volvo']\n",
    "fruits.extend(cars)\n",
    "print(fruits)"
   ]
  },
  {
   "cell_type": "code",
   "execution_count": 7,
   "id": "recent-canadian",
   "metadata": {},
   "outputs": [
    {
     "name": "stdout",
     "output_type": "stream",
     "text": [
      "1\n"
     ]
    }
   ],
   "source": [
    "#Index\n",
    "fruits=[\"apple\",\"banana\",\"cherry\"]\n",
    "x=fruits.index(\"banana\")\n",
    "print(x)"
   ]
  },
  {
   "cell_type": "code",
   "execution_count": 8,
   "id": "opponent-illinois",
   "metadata": {},
   "outputs": [
    {
     "name": "stdout",
     "output_type": "stream",
     "text": [
      "['apple', 'banana', 'orange', 'cherry']\n"
     ]
    }
   ],
   "source": [
    "#Insert\n",
    "fruits=[\"apple\",\"banana\",\"cherry\"]\n",
    "fruits.insert(2,\"orange\")\n",
    "print(fruits)"
   ]
  },
  {
   "cell_type": "code",
   "execution_count": 10,
   "id": "choice-stress",
   "metadata": {},
   "outputs": [
    {
     "name": "stdout",
     "output_type": "stream",
     "text": [
      "1\n",
      "2\n"
     ]
    }
   ],
   "source": [
    "#Count\n",
    "fruits=[\"apple\",\"banana\",\"cherry\"]\n",
    "fruits2=[\"apple\",\"cherry\",\"banana\",\"cherry\"]\n",
    "x = fruits.count(\"cherry\")\n",
    "y=fruits2.count(\"cherry\")\n",
    "print(x)\n",
    "print(y)"
   ]
  },
  {
   "cell_type": "code",
   "execution_count": 15,
   "id": "renewable-stocks",
   "metadata": {},
   "outputs": [
    {
     "name": "stdout",
     "output_type": "stream",
     "text": [
      "['apple', 'cherry']\n"
     ]
    }
   ],
   "source": [
    "#pop -method removes the item at the given index from the list and returns the removed item\n",
    "fruits=[\"apple\",\"banana\",\"cherry\"]\n",
    "fruits.pop(1)\n",
    "print(fruits)\n",
    "\n",
    "\n"
   ]
  },
  {
   "cell_type": "code",
   "execution_count": 16,
   "id": "dried-absolute",
   "metadata": {},
   "outputs": [
    {
     "name": "stdout",
     "output_type": "stream",
     "text": [
      "['apple', 'banana']\n"
     ]
    }
   ],
   "source": [
    "#remove\n",
    "fruits=[\"apple\",\"banana\",\"cherry\"]\n",
    "fruits.remove(\"cherry\")\n",
    "print(fruits)"
   ]
  },
  {
   "cell_type": "code",
   "execution_count": 17,
   "id": "combined-perry",
   "metadata": {},
   "outputs": [
    {
     "name": "stdout",
     "output_type": "stream",
     "text": [
      "['apple', 'banana', 'cherry']\n"
     ]
    }
   ],
   "source": [
    "#sort\n",
    "fruits=[\"cherry\",\"banana\",\"apple\"]\n",
    "fruits.sort()\n",
    "print(fruits)"
   ]
  },
  {
   "cell_type": "code",
   "execution_count": 18,
   "id": "resident-handy",
   "metadata": {},
   "outputs": [
    {
     "name": "stdout",
     "output_type": "stream",
     "text": [
      "['TestingXperts', 'Employee']\n"
     ]
    }
   ],
   "source": [
    "#split\n",
    "a=\"TestingXperts Employee\"\n",
    "a=a.split(\" \")\n",
    "print(a)"
   ]
  },
  {
   "cell_type": "code",
   "execution_count": 19,
   "id": "pending-wheat",
   "metadata": {},
   "outputs": [
    {
     "name": "stdout",
     "output_type": "stream",
     "text": [
      "['apple', 'orange', 'cherry']\n"
     ]
    }
   ],
   "source": [
    "#list Slicing\n",
    "fruits=[\"apple\",\"banana\",\"cherry\"]\n",
    "fruits[1]=\"orange\"\n",
    "print(fruits)"
   ]
  },
  {
   "cell_type": "code",
   "execution_count": 21,
   "id": "protecting-junction",
   "metadata": {},
   "outputs": [
    {
     "name": "stdout",
     "output_type": "stream",
     "text": [
      "HelloWorld\n",
      "Hello World\n"
     ]
    }
   ],
   "source": [
    "#string concatenation\n",
    "a = \"Hello\"\n",
    "b = \"World\"\n",
    "c = a + b\n",
    "print(c)\n",
    "c=a+\" \"+b\n",
    "print(c)"
   ]
  },
  {
   "cell_type": "code",
   "execution_count": 22,
   "id": "nuclear-community",
   "metadata": {},
   "outputs": [
    {
     "name": "stdout",
     "output_type": "stream",
     "text": [
      "My name is Pragati, and I am 22\n"
     ]
    }
   ],
   "source": [
    "#format()- method to insert numbers into strings\n",
    "age = 22\n",
    "txt = \"My name is Pragati, and I am {}\"\n",
    "print(txt.format(age))"
   ]
  },
  {
   "cell_type": "code",
   "execution_count": 24,
   "id": "accepted-sellers",
   "metadata": {},
   "outputs": [
    {
     "name": "stdout",
     "output_type": "stream",
     "text": [
      "['c', 'a', 'd', 'c', 'b', 'a']\n",
      "['a', 'b', 'c', 'd', 'a']\n",
      "['a', 'c']\n"
     ]
    }
   ],
   "source": [
    "#string slicing\n",
    "my_secondlist=[\"a\",\"b\",\"c\",\"d\",\"a\",\"c\"]\n",
    "print(my_secondlist[::-1])\n",
    "print(my_secondlist[-7:-1])\n",
    "print(my_secondlist[0:4:2])"
   ]
  },
  {
   "cell_type": "code",
   "execution_count": 25,
   "id": "enormous-onion",
   "metadata": {},
   "outputs": [
    {
     "name": "stdout",
     "output_type": "stream",
     "text": [
      "8\n",
      "15\n",
      "125\n",
      "2\n"
     ]
    }
   ],
   "source": [
    "#operators in python\n",
    "x = 5\n",
    "y = 3\n",
    "print(x + y)\n",
    "print(x*y)\n",
    "print(x ** y) #same as 2*2*2*2*2\n",
    "print(x % y)\n"
   ]
  },
  {
   "cell_type": "code",
   "execution_count": 26,
   "id": "lesser-allen",
   "metadata": {},
   "outputs": [
    {
     "name": "stdout",
     "output_type": "stream",
     "text": [
      "HELLO, GOOD EVENING!\n",
      "hello, good evening!\n",
      "Hello, good evening!\n"
     ]
    }
   ],
   "source": [
    "#Uppercase,lowercase,\n",
    "#Strip method removes any whitespace from the beginning or the end\n",
    "a = \"Hello, good evening!\"\n",
    "b = \"  Hello, good evening!\"\n",
    "print(a.upper())\n",
    "print(a.lower())\n",
    "print(b.strip())\n",
    "\n"
   ]
  },
  {
   "cell_type": "code",
   "execution_count": 27,
   "id": "respective-imagination",
   "metadata": {},
   "outputs": [
    {
     "name": "stdout",
     "output_type": "stream",
     "text": [
      "Pragati!\n"
     ]
    }
   ],
   "source": [
    "#replace() method replaces a string with another string\n",
    "a = \"Aragati!\"\n",
    "print(a.replace(\"A\", \"P\"))\n"
   ]
  },
  {
   "cell_type": "code",
   "execution_count": 28,
   "id": "young-stable",
   "metadata": {},
   "outputs": [
    {
     "name": "stdout",
     "output_type": "stream",
     "text": [
      "True\n",
      "False\n",
      "True\n"
     ]
    }
   ],
   "source": [
    "#Boolean values\n",
    "print(600 > 50)\n",
    "print(25 == 89)\n",
    "print(2 < 9)\n"
   ]
  },
  {
   "cell_type": "code",
   "execution_count": 31,
   "id": "vertical-record",
   "metadata": {},
   "outputs": [
    {
     "name": "stdout",
     "output_type": "stream",
     "text": [
      "1\n",
      "2\n",
      "2.8\n",
      "3\n"
     ]
    }
   ],
   "source": [
    "#typr casting\n",
    "x = int(1)\n",
    "y = int(2.8)\n",
    "q = float(2.8)\n",
    "z = int(\"3\")\n",
    "print(x)\n",
    "print(y)\n",
    "print(q)\n",
    "print(z)\n"
   ]
  },
  {
   "cell_type": "code",
   "execution_count": null,
   "id": "bizarre-validity",
   "metadata": {},
   "outputs": [],
   "source": []
  }
 ],
 "metadata": {
  "kernelspec": {
   "display_name": "Python 3",
   "language": "python",
   "name": "python3"
  },
  "language_info": {
   "codemirror_mode": {
    "name": "ipython",
    "version": 3
   },
   "file_extension": ".py",
   "mimetype": "text/x-python",
   "name": "python",
   "nbconvert_exporter": "python",
   "pygments_lexer": "ipython3",
   "version": "3.9.2"
  }
 },
 "nbformat": 4,
 "nbformat_minor": 5
}
